{
 "cells": [
  {
   "cell_type": "code",
   "execution_count": 1,
   "id": "105954fa",
   "metadata": {},
   "outputs": [],
   "source": [
    "import requests\n",
    "from bs4 import BeautifulSoup\n",
    "import json\n",
    "import time\n",
    "import re"
   ]
  },
  {
   "cell_type": "code",
   "execution_count": 5,
   "id": "41f78852",
   "metadata": {},
   "outputs": [],
   "source": [
    "search_keyword = '자석거치대'"
   ]
  },
  {
   "cell_type": "code",
   "execution_count": 13,
   "id": "97dfd098",
   "metadata": {},
   "outputs": [
    {
     "ename": "SyntaxError",
     "evalue": "unexpected EOF while parsing (862634909.py, line 15)",
     "output_type": "error",
     "traceback": [
      "\u001b[1;36m  File \u001b[1;32m\"C:\\Users\\hjoo_\\AppData\\Local\\Temp\\ipykernel_10148\\862634909.py\"\u001b[1;36m, line \u001b[1;32m15\u001b[0m\n\u001b[1;33m    print(related_keywords)\u001b[0m\n\u001b[1;37m                           ^\u001b[0m\n\u001b[1;31mSyntaxError\u001b[0m\u001b[1;31m:\u001b[0m unexpected EOF while parsing\n"
     ]
    }
   ],
   "source": [
    "try :\n",
    "    url = 'https://shopping.naver.com/api/modules/gnb/auto-complete?keyword=' + search_keyword\n",
    "    headers = { 'Accept-Language' : 'ko-KR,ko;q=0.9,en-US;q=0.8,en;q=0.7,zh-TW;q=0.6,zh;q=0.5',\n",
    "                'User-Agent': 'Mozilla/5.0 (Windows NT 10.0; Win64; x64) AppleWebKit/537.36 (KHTML, like Gecko) Chrome/100.0.4896.127 Safari/537.36',\n",
    "                'Accept-Encoding': 'gzip'\n",
    "    }\n",
    "\n",
    "    response = requests.get(url, headers=headers)\n",
    "    json_str = response.text\n",
    "    keywords = json.loads(json_str)\n",
    "\n",
    "    for kw in keywords['items'][1] : \n",
    "        related_keywords = kw[0][0]\n",
    "        related_keywords = related_keywords.replace(\" \", \"\")\n",
    "        print(related_keywords)"
   ]
  },
  {
   "cell_type": "code",
   "execution_count": null,
   "id": "434bb24c",
   "metadata": {},
   "outputs": [],
   "source": []
  }
 ],
 "metadata": {
  "kernelspec": {
   "display_name": "Python 3 (ipykernel)",
   "language": "python",
   "name": "python3"
  },
  "language_info": {
   "codemirror_mode": {
    "name": "ipython",
    "version": 3
   },
   "file_extension": ".py",
   "mimetype": "text/x-python",
   "name": "python",
   "nbconvert_exporter": "python",
   "pygments_lexer": "ipython3",
   "version": "3.9.13"
  }
 },
 "nbformat": 4,
 "nbformat_minor": 5
}
