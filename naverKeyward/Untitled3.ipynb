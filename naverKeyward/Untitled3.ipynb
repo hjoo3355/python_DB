{
 "cells": [
  {
   "cell_type": "code",
   "execution_count": 2,
   "id": "1e2ecc1a",
   "metadata": {},
   "outputs": [],
   "source": [
    "keyword = '갤럭시워치4베젤링' #키워드검색\n",
    "\n",
    "BASE_URL = 'https://api.naver.com'\n",
    "API_KEY = \"0100000000e90c570d48dfd82273fdf0bbed2b56a6a241e5b76186e2d63aa5745fef8db0f6\"\n",
    "SECRET_KEY = \"AQAAAADpDFcNSN/YInP98LvtK1amFvFUBVQfRj7oYU1KtnBm2g==\"\n",
    "CUSTOMER_ID = \"2781326\"\n"
   ]
  },
  {
   "cell_type": "code",
   "execution_count": 3,
   "id": "c3c16e09",
   "metadata": {},
   "outputs": [],
   "source": [
    "def generate(timestamp, method, uri, secret_key):\n",
    "    message = \"{}.{}.{}\".format(timestamp, method, uri)\n",
    "    #hash = hmac.new(bytes(secret_key, \"utf-8\"), bytes(message, \"utf-8\"), hashlib.sha256)\n",
    "    hash = hmac.new(secret_key.encode(\"utf-8\"), message.encode(\"utf-8\"), hashlib.sha256)\n",
    "    hash.hexdigest()\n",
    "    return base64.b64encode(hash.digest())\n"
   ]
  },
  {
   "cell_type": "code",
   "execution_count": 4,
   "id": "5e8b510e",
   "metadata": {},
   "outputs": [],
   "source": [
    "def get_header(method, uri, api_key, secret_key, customer_id):\n",
    "    timestamp = str(int(time.time() * 1000))\n",
    "    signature = generate(timestamp, method, uri, SECRET_KEY)\n",
    "    return {'Content-Type': 'application/json; charset=UTF-8', 'X-Timestamp': timestamp, 'X-API-KEY': API_KEY, 'X-Customer': str(CUSTOMER_ID), 'X-Signature': signature}\n"
   ]
  },
  {
   "cell_type": "code",
   "execution_count": 6,
   "id": "e847b262",
   "metadata": {},
   "outputs": [],
   "source": [
    "dic_return_kwd = {}\n",
    "naver_ad_url = '/keywordstool'\n",
    "#_kwds_string = '원피스' #1개일경우\n",
    "#_kwds_string = ['나이키', '원피스', '운동화'] #키워드 여러개일경우\n",
    "method = 'GET'\n",
    "prm = {'hintKeywords' : keyword , 'showDetail':1}\n",
    "#    ManageCustomerLink Usage Sample\n"
   ]
  },
  {
   "cell_type": "code",
   "execution_count": 7,
   "id": "007dd747",
   "metadata": {},
   "outputs": [
    {
     "ename": "NameError",
     "evalue": "name 'requests' is not defined",
     "output_type": "error",
     "traceback": [
      "\u001b[1;31m---------------------------------------------------------------------------\u001b[0m",
      "\u001b[1;31mNameError\u001b[0m                                 Traceback (most recent call last)",
      "\u001b[1;32m~\\AppData\\Local\\Temp\\ipykernel_21668\\3557833672.py\u001b[0m in \u001b[0;36m<module>\u001b[1;34m\u001b[0m\n\u001b[1;32m----> 1\u001b[1;33m \u001b[0mr\u001b[0m \u001b[1;33m=\u001b[0m \u001b[0mrequests\u001b[0m\u001b[1;33m.\u001b[0m\u001b[0mget\u001b[0m\u001b[1;33m(\u001b[0m\u001b[0mBASE_URL\u001b[0m \u001b[1;33m+\u001b[0m \u001b[0mnaver_ad_url\u001b[0m\u001b[1;33m,\u001b[0m \u001b[0mparams\u001b[0m\u001b[1;33m=\u001b[0m\u001b[0mprm\u001b[0m\u001b[1;33m,\u001b[0m \u001b[0mheaders\u001b[0m\u001b[1;33m=\u001b[0m\u001b[0mget_header\u001b[0m\u001b[1;33m(\u001b[0m\u001b[0mmethod\u001b[0m\u001b[1;33m,\u001b[0m \u001b[0mnaver_ad_url\u001b[0m\u001b[1;33m,\u001b[0m \u001b[0mAPI_KEY\u001b[0m\u001b[1;33m,\u001b[0m \u001b[0mSECRET_KEY\u001b[0m\u001b[1;33m,\u001b[0m \u001b[0mCUSTOMER_ID\u001b[0m\u001b[1;33m)\u001b[0m\u001b[1;33m)\u001b[0m\u001b[1;33m\u001b[0m\u001b[1;33m\u001b[0m\u001b[0m\n\u001b[0m",
      "\u001b[1;31mNameError\u001b[0m: name 'requests' is not defined"
     ]
    }
   ],
   "source": [
    "r = requests.get(BASE_URL + naver_ad_url, params=prm, headers=get_header(method, naver_ad_url, API_KEY, SECRET_KEY, CUSTOMER_ID))\n"
   ]
  },
  {
   "cell_type": "code",
   "execution_count": null,
   "id": "b681a44c",
   "metadata": {},
   "outputs": [],
   "source": []
  }
 ],
 "metadata": {
  "kernelspec": {
   "display_name": "Python 3 (ipykernel)",
   "language": "python",
   "name": "python3"
  },
  "language_info": {
   "codemirror_mode": {
    "name": "ipython",
    "version": 3
   },
   "file_extension": ".py",
   "mimetype": "text/x-python",
   "name": "python",
   "nbconvert_exporter": "python",
   "pygments_lexer": "ipython3",
   "version": "3.9.13"
  }
 },
 "nbformat": 4,
 "nbformat_minor": 5
}
