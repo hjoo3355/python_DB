{
 "cells": [
  {
   "cell_type": "code",
   "execution_count": 4,
   "id": "15147ce2",
   "metadata": {},
   "outputs": [
    {
     "ename": "IndentationError",
     "evalue": "unindent does not match any outer indentation level (<tokenize>, line 25)",
     "output_type": "error",
     "traceback": [
      "\u001b[1;36m  File \u001b[1;32m\"<tokenize>\"\u001b[1;36m, line \u001b[1;32m25\u001b[0m\n\u001b[1;33m    driver.find_element(By.XPATH, '//*[@id=\"content\"]/div[2]/div/div[2]/div[2]/div/div/div[2]/div/a[2]').click()\u001b[0m\n\u001b[1;37m    ^\u001b[0m\n\u001b[1;31mIndentationError\u001b[0m\u001b[1;31m:\u001b[0m unindent does not match any outer indentation level\n"
     ]
    }
   ],
   "source": [
    "from webdriver_manager.chrome import ChromeDriverManager\n",
    "from selenium import webdriver \n",
    "from selenium.webdriver.common.by import By\n",
    "from selenium.webdriver.chrome.service import Service \n",
    "import time \n",
    "\n",
    "#창 열기 쇼핑인사이트 \n",
    "chrome_options = webdriver.ChromeOptions()\n",
    "driver = webdriver.Chrome(service = Service(ChromeDriverManager().install()), options = chrome_options )\n",
    "driver.get(url = 'https://datalab.naver.com/shoppingInsight/sCategory.naver')\n",
    "\n",
    " driver.find_element(By.XPATH, '//*[@id=\"content\"]/div[2]/div/div[1]/div/div/div[1]/div/div[1]/span').click()\n",
    " driver.find_element(By.XPATH, k).click()\n",
    " time.sleep(0.5)\n",
    " driver.find_element(By.XPATH, '//*[@id=\"18_device_0\"]').click()\n",
    " driver.find_element(By.XPATH, '//*[@id=\"19_gender_0\"]').click()\n",
    " driver.find_element(By.XPATH, '//*[@id=\"20_age_0\"]').click()\n",
    " driver.find_element(By.XPATH, '//*[@id=\"content\"]/div[2]/div/div[1]/div/a').click()\n",
    " for i in range(0,12) : #원래 25인데 12로 줄임 \n",
    "     for j in range(1,21) : \n",
    "            path = f'//*[@id=\"content\"]/div[2]/div/div[2]/div[2]/div/div/div[1]/ul/li[{j}]/a'\n",
    "            result = driver.find_element(By.XPATH, path).text\n",
    "            # print(result.split('\\n')) 쓸데없는 프린트 \n",
    "            Keywords.append(result.split('\\n')[1])\n",
    "        driver.find_element(By.XPATH, '//*[@id=\"content\"]/div[2]/div/div[2]/div[2]/div/div/div[2]/div/a[2]').click()\n",
    "        time.sleep(1)"
   ]
  },
  {
   "cell_type": "code",
   "execution_count": null,
   "id": "23538b6f",
   "metadata": {},
   "outputs": [],
   "source": []
  }
 ],
 "metadata": {
  "kernelspec": {
   "display_name": "Python 3 (ipykernel)",
   "language": "python",
   "name": "python3"
  },
  "language_info": {
   "codemirror_mode": {
    "name": "ipython",
    "version": 3
   },
   "file_extension": ".py",
   "mimetype": "text/x-python",
   "name": "python",
   "nbconvert_exporter": "python",
   "pygments_lexer": "ipython3",
   "version": "3.9.13"
  }
 },
 "nbformat": 4,
 "nbformat_minor": 5
}
