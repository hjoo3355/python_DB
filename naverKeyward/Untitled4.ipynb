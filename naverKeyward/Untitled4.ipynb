{
 "cells": [
  {
   "cell_type": "code",
   "execution_count": 2,
   "id": "4bc65f6c",
   "metadata": {},
   "outputs": [],
   "source": [
    "import hashlib\n",
    "import hmac\n",
    "import base64\n"
   ]
  },
  {
   "cell_type": "code",
   "execution_count": 3,
   "id": "0ef82a0d",
   "metadata": {},
   "outputs": [],
   "source": [
    "class Signature:\n",
    "\n",
    "    @staticmethod\n",
    "    def generate(timestamp, method, uri, secret_key):\n",
    "        message = \"{}.{}.{}\".format(timestamp, method, uri)\n",
    "        hash = hmac.new(bytes(secret_key, \"utf-8\"), bytes(message, \"utf-8\"), hashlib.sha256)\n",
    "\n",
    "        hash.hexdigest()\n",
    "        return base64.b64encode(hash.digest())"
   ]
  },
  {
   "cell_type": "code",
   "execution_count": 4,
   "id": "12232f76",
   "metadata": {},
   "outputs": [],
   "source": [
    "import time\n",
    "import random\n",
    "import requests\n",
    "import pandas as pd\n",
    "import numpy as np "
   ]
  },
  {
   "cell_type": "code",
   "execution_count": 5,
   "id": "283f8ca2",
   "metadata": {},
   "outputs": [],
   "source": [
    "def get_header(method, uri, api_key, secret_key, customer_id):\n",
    "    timestamp = str(round(time.time() * 1000))\n",
    "    signature = Signature.generate(timestamp, method, uri, SECRET_KEY)\n",
    "    return {'Content-Type': 'application/json; charset=UTF-8',\n",
    "            'X-Timestamp': timestamp, 'X-API-KEY': API_KEY,\n",
    "            'X-Customer': str(CUSTOMER_ID), 'X-Signature': signature}\n"
   ]
  },
  {
   "cell_type": "code",
   "execution_count": 6,
   "id": "f420d2fc",
   "metadata": {},
   "outputs": [],
   "source": [
    "BASE_URL = 'https://api.naver.com'\n",
    "API_KEY = \"0100000000e90c570d48dfd82273fdf0bbed2b56a6a241e5b76186e2d63aa5745fef8db0f6\"\n",
    "SECRET_KEY = \"AQAAAADpDFcNSN/YInP98LvtK1amFvFUBVQfRj7oYU1KtnBm2g==\"\n",
    "CUSTOMER_ID = \"2781326\""
   ]
  },
  {
   "cell_type": "code",
   "execution_count": 7,
   "id": "d848a296",
   "metadata": {},
   "outputs": [],
   "source": [
    "uri = '/keywordstool'\n",
    "method = 'GET'"
   ]
  },
  {
   "cell_type": "code",
   "execution_count": 9,
   "id": "978434c6",
   "metadata": {},
   "outputs": [],
   "source": [
    "DF = pd.DataFrame()"
   ]
  },
  {
   "cell_type": "code",
   "execution_count": 14,
   "id": "8d16855b",
   "metadata": {},
   "outputs": [
    {
     "ename": "NameError",
     "evalue": "name 'Keywords' is not defined",
     "output_type": "error",
     "traceback": [
      "\u001b[1;31m---------------------------------------------------------------------------\u001b[0m",
      "\u001b[1;31mNameError\u001b[0m                                 Traceback (most recent call last)",
      "\u001b[1;32m~\\AppData\\Local\\Temp\\ipykernel_11020\\1222557461.py\u001b[0m in \u001b[0;36m<module>\u001b[1;34m\u001b[0m\n\u001b[1;32m----> 1\u001b[1;33m \u001b[1;32mfor\u001b[0m \u001b[0mi\u001b[0m \u001b[1;32min\u001b[0m \u001b[0mKeywords\u001b[0m \u001b[1;33m:\u001b[0m\u001b[1;33m\u001b[0m\u001b[1;33m\u001b[0m\u001b[0m\n\u001b[0m\u001b[0;32m      2\u001b[0m     r = requests.get(BASE_URL + uri+'?hintKeywords={}&showDetail=1'.format(i),\n\u001b[0;32m      3\u001b[0m                  headers=get_header(method, uri, API_KEY, SECRET_KEY, CUSTOMER_ID))\n\u001b[0;32m      4\u001b[0m     \u001b[0mdf\u001b[0m\u001b[1;33m=\u001b[0m\u001b[0mpd\u001b[0m\u001b[1;33m.\u001b[0m\u001b[0mDataFrame\u001b[0m\u001b[1;33m(\u001b[0m\u001b[0mr\u001b[0m\u001b[1;33m.\u001b[0m\u001b[0mjson\u001b[0m\u001b[1;33m(\u001b[0m\u001b[1;33m)\u001b[0m\u001b[1;33m[\u001b[0m\u001b[1;34m'keywordList'\u001b[0m\u001b[1;33m]\u001b[0m\u001b[1;33m)\u001b[0m\u001b[1;33m\u001b[0m\u001b[1;33m\u001b[0m\u001b[0m\n\u001b[0;32m      5\u001b[0m     \u001b[0mr\u001b[0m\u001b[1;33m.\u001b[0m\u001b[0mjson\u001b[0m\u001b[1;33m(\u001b[0m\u001b[1;33m)\u001b[0m\u001b[1;33m.\u001b[0m\u001b[0mkeys\u001b[0m\u001b[1;33m(\u001b[0m\u001b[1;33m)\u001b[0m\u001b[1;33m\u001b[0m\u001b[1;33m\u001b[0m\u001b[0m\n",
      "\u001b[1;31mNameError\u001b[0m: name 'Keywords' is not defined"
     ]
    }
   ],
   "source": [
    "for i in Keywords :\n",
    "    r = requests.get(BASE_URL + uri+'?hintKeywords={}&showDetail=1'.format(i),\n",
    "                 headers=get_header(method, uri, API_KEY, SECRET_KEY, CUSTOMER_ID))\n",
    "    df=pd.DataFrame(r.json()['keywordList'])\n",
    "    r.json().keys()\n",
    "    \n",
    "    df_sorted = df.sort_values(by='월평균클릭률_모바일', ascending=False)\n",
    "    #DF = DF.append(df_sorted)\n",
    "    DF = pd.concat([DF, df_sorted])\n",
    "#모아진 것에서 중복데이터 제거     \n",
    "DF = DF.drop_duplicates().replace(0.0, np.NaN).dropna()\n",
    "\n",
    "DF"
   ]
  },
  {
   "cell_type": "code",
   "execution_count": null,
   "id": "554660b9",
   "metadata": {},
   "outputs": [],
   "source": []
  }
 ],
 "metadata": {
  "kernelspec": {
   "display_name": "Python 3 (ipykernel)",
   "language": "python",
   "name": "python3"
  },
  "language_info": {
   "codemirror_mode": {
    "name": "ipython",
    "version": 3
   },
   "file_extension": ".py",
   "mimetype": "text/x-python",
   "name": "python",
   "nbconvert_exporter": "python",
   "pygments_lexer": "ipython3",
   "version": "3.9.13"
  }
 },
 "nbformat": 4,
 "nbformat_minor": 5
}
